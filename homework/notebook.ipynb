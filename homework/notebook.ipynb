{
 "cells": [
  {
   "cell_type": "code",
   "execution_count": null,
   "metadata": {},
   "outputs": [],
   "source": [
    "#Escriba el codigo que ejecute la accion solicitada en cada pregunta.\n",
    "\n",
    "# pylint: disable=import-outside-toplevel\n",
    "\n",
    "#Construya y retorne un dataframe de Pandas a partir del archivo\n",
    "#'files/input/clusters_report.txt'. Los requierimientos son los siguientes:\n",
    "\n",
    "    #- El dataframe tiene la misma estructura que el archivo original.\n",
    "    #- Los nombres de las columnas deben ser en minusculas, reemplazando los espacios por guiones bajos.\n",
    "    #- Las palabras clave deben estar separadas por coma y con un solo espacio entre palabra y palabra.\n"
   ]
  },
  {
   "cell_type": "code",
   "execution_count": null,
   "metadata": {},
   "outputs": [],
   "source": [
    "\"../files/input/clusters_report.txt\""
   ]
  },
  {
   "cell_type": "code",
   "execution_count": 4,
   "metadata": {},
   "outputs": [],
   "source": [
    "import pandas as pd\n",
    "import re\n",
    "\n",
    "def pregunta_01():\n",
    "    # Leer el archivo línea por línea\n",
    "    with open(\"../files/input/clusters_report.txt\", 'r') as file:\n",
    "        lines = file.readlines()\n",
    "\n",
    "    # Limpiar y agrupar las líneas para cada fila del DataFrame\n",
    "    data = []\n",
    "    current_row = []\n",
    "    for line in lines[4:]:  # Ignorar las primeras 4 líneas del encabezado\n",
    "        line = line.strip()\n",
    "        if re.match(r'^\\d+', line):  # Si la línea empieza con un número, es el inicio de un nuevo cluster\n",
    "            if current_row:  # Agregar la fila acumulada antes de empezar una nueva\n",
    "                current_row[-1] = re.sub(r'\\s+', ' ', current_row[-1]).strip()  # Limpiar espacios adicionales\n",
    "                data.append(current_row)\n",
    "            current_row = re.split(r'\\s{2,}', line, maxsplit=3)  # Separar en 4 partes máximo\n",
    "        else:  # Si no empieza con un número, es una continuación de la línea anterior\n",
    "            current_row[-1] += ' ' + line  # Concatenar la línea al final de la última columna\n",
    "\n",
    "    # Agregar la última fila\n",
    "    if current_row:\n",
    "        current_row[-1] = re.sub(r'\\s+', ' ', current_row[-1]).strip()  # Limpiar espacios adicionales\n",
    "        data.append(current_row)\n",
    "\n",
    "    # Crear el DataFrame\n",
    "    df = pd.DataFrame(data, columns=[\"cluster\", \"cantidad_de_palabras_clave\", \"porcentaje_de_palabras_clave\", \"principales_palabras_clave\"])\n",
    "\n",
    "    # Limpiar las columnas según las condiciones\n",
    "    df['principales_palabras_clave'] = (\n",
    "        df['principales_palabras_clave']\n",
    "        .str.replace(r'\\s*,\\s*', ', ')  # Asegurar un solo espacio después de cada coma\n",
    "        .str.replace(r',\\s+', ', ')  # Corregir comas seguidas de múltiples espacios\n",
    "        .str.replace(r'\\.\\s*$', '', regex=True)  # Eliminar punto final si existe\n",
    "        .str.strip()  # Eliminar espacios iniciales y finales\n",
    "    )\n",
    "\n",
    "    # Convertir las columnas numéricas\n",
    "    df['cluster'] = df['cluster'].astype(int)\n",
    "    df['cantidad_de_palabras_clave'] = df['cantidad_de_palabras_clave'].astype(int)\n",
    "    df['porcentaje_de_palabras_clave'] = df['porcentaje_de_palabras_clave'].str.replace(',', '.').str.rstrip('%').astype(float)\n",
    "\n",
    "    # Retornar el DataFrame resultante\n",
    "    return df"
   ]
  },
  {
   "cell_type": "code",
   "execution_count": 5,
   "metadata": {},
   "outputs": [
    {
     "data": {
      "text/plain": [
       "'maximum power point tracking, fuzzy-logic based control, photo voltaic (pv), photo-voltaic system, differential evolution algorithm, evolutionary algorithm, double-fed induction generator (dfig), ant colony optimisation, photo voltaic array, firefly algorithm, partial shade'"
      ]
     },
     "execution_count": 5,
     "metadata": {},
     "output_type": "execute_result"
    }
   ],
   "source": [
    "resultado = pregunta_01()\n",
    "resultado.principales_palabras_clave.to_list()[0]\n"
   ]
  },
  {
   "cell_type": "code",
   "execution_count": 6,
   "metadata": {},
   "outputs": [
    {
     "data": {
      "text/plain": [
       "True"
      ]
     },
     "execution_count": 6,
     "metadata": {},
     "output_type": "execute_result"
    }
   ],
   "source": [
    "resultado.principales_palabras_clave.to_list()[0] == (\n",
    "        \"maximum power point tracking, \"\n",
    "        \"fuzzy-logic based control, \"\n",
    "        \"photo voltaic (pv), \"\n",
    "        \"photo-voltaic system, \"\n",
    "        \"differential evolution algorithm, \"\n",
    "        \"evolutionary algorithm, \"\n",
    "        \"double-fed induction generator (dfig), \"\n",
    "        \"ant colony optimisation, \"\n",
    "        \"photo voltaic array, \"\n",
    "        \"firefly algorithm, \"\n",
    "        \"partial shade\"\n",
    "    )\n"
   ]
  },
  {
   "cell_type": "code",
   "execution_count": 7,
   "metadata": {},
   "outputs": [
    {
     "data": {
      "text/plain": [
       "True"
      ]
     },
     "execution_count": 7,
     "metadata": {},
     "output_type": "execute_result"
    }
   ],
   "source": [
    "resultado.principales_palabras_clave.to_list()[1] == (\n",
    "        \"support vector machine, \"\n",
    "        \"long short-term memory, \"\n",
    "        \"back-propagation neural network, \"\n",
    "        \"convolution neural network, \"\n",
    "        \"speed wind prediction, \"\n",
    "        \"energy consumption, \"\n",
    "        \"wind power forecasting, \"\n",
    "        \"extreme learning machine, \"\n",
    "        \"recurrent-neural-network (rnn), \"\n",
    "        \"radial basis \"\n",
    "        \"function (rbf) networks, \"\n",
    "        \"wind farm\"\n",
    "    )\n"
   ]
  },
  {
   "cell_type": "code",
   "execution_count": null,
   "metadata": {},
   "outputs": [],
   "source": []
  }
 ],
 "metadata": {
  "kernelspec": {
   "display_name": ".venv",
   "language": "python",
   "name": "python3"
  },
  "language_info": {
   "codemirror_mode": {
    "name": "ipython",
    "version": 3
   },
   "file_extension": ".py",
   "mimetype": "text/x-python",
   "name": "python",
   "nbconvert_exporter": "python",
   "pygments_lexer": "ipython3",
   "version": "3.12.3"
  }
 },
 "nbformat": 4,
 "nbformat_minor": 2
}
